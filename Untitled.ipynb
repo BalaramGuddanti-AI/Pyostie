{
 "cells": [
  {
   "cell_type": "code",
   "execution_count": 1,
   "id": "organized-beverage",
   "metadata": {},
   "outputs": [],
   "source": [
    "import pyostie"
   ]
  },
  {
   "cell_type": "code",
   "execution_count": 2,
   "id": "necessary-genetics",
   "metadata": {},
   "outputs": [],
   "source": [
    "output = pyostie.extract('/home/anirudhpnbb/Desktop/Cloud Server Invoice - mar-dec 2017.tif', insights=True, extension=\"tif\")"
   ]
  },
  {
   "cell_type": "code",
   "execution_count": null,
   "id": "eleven-starter",
   "metadata": {},
   "outputs": [],
   "source": [
    "df, text = output.start()"
   ]
  },
  {
   "cell_type": "code",
   "execution_count": null,
   "id": "postal-fifty",
   "metadata": {},
   "outputs": [],
   "source": [
    "df"
   ]
  },
  {
   "cell_type": "code",
   "execution_count": null,
   "id": "equipped-adolescent",
   "metadata": {},
   "outputs": [],
   "source": [
    "text"
   ]
  }
 ],
 "metadata": {
  "kernelspec": {
   "display_name": "Python 3",
   "language": "python",
   "name": "python3"
  },
  "language_info": {
   "codemirror_mode": {
    "name": "ipython",
    "version": 3
   },
   "file_extension": ".py",
   "mimetype": "text/x-python",
   "name": "python",
   "nbconvert_exporter": "python",
   "pygments_lexer": "ipython3",
   "version": "3.6.9"
  }
 },
 "nbformat": 4,
 "nbformat_minor": 5
}
