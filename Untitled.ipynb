{
 "cells": [
  {
   "cell_type": "code",
   "execution_count": 1,
   "id": "nasty-soundtrack",
   "metadata": {},
   "outputs": [],
   "source": [
    "import pyostie"
   ]
  },
  {
   "cell_type": "code",
   "execution_count": 2,
   "id": "united-velvet",
   "metadata": {},
   "outputs": [],
   "source": [
    "build = pyostie.extract(\"/home/anirudhpnbb/Downloads/Patterson Invoice 1.pdf\", insights=True, extension=\"pdf\")"
   ]
  },
  {
   "cell_type": "code",
   "execution_count": null,
   "id": "nutritional-experience",
   "metadata": {},
   "outputs": [
    {
     "name": "stdout",
     "output_type": "stream",
     "text": [
      "PDF\n"
     ]
    }
   ],
   "source": [
    "df, text = build.start()"
   ]
  },
  {
   "cell_type": "code",
   "execution_count": null,
   "id": "greater-compound",
   "metadata": {},
   "outputs": [],
   "source": [
    "df"
   ]
  },
  {
   "cell_type": "code",
   "execution_count": null,
   "id": "allied-arrest",
   "metadata": {},
   "outputs": [],
   "source": [
    "text"
   ]
  },
  {
   "cell_type": "code",
   "execution_count": null,
   "id": "amber-african",
   "metadata": {},
   "outputs": [],
   "source": [
    "type(text)"
   ]
  }
 ],
 "metadata": {
  "kernelspec": {
   "display_name": "Python 3",
   "language": "python",
   "name": "python3"
  },
  "language_info": {
   "codemirror_mode": {
    "name": "ipython",
    "version": 3
   },
   "file_extension": ".py",
   "mimetype": "text/x-python",
   "name": "python",
   "nbconvert_exporter": "python",
   "pygments_lexer": "ipython3",
   "version": "3.6.9"
  }
 },
 "nbformat": 4,
 "nbformat_minor": 5
}
